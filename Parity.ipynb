{
 "cells": [
  {
   "cell_type": "code",
   "execution_count": 3,
   "metadata": {},
   "outputs": [],
   "source": [
    "# Parity Detector and conversion of odd parity to even parity and vice versa\n",
    "# It is a concept to detect errors\n",
    "# A single bit error is detected by it\n",
    "\n",
    "def DtoB(n):   #Decimal to binary conversion\n",
    "    if(n>1):\n",
    "        DtoB(n//2)\n",
    "    print(n%2,end=\" \")\n",
    "\n",
    "def LtoI(list):   #list to integer conversion\n",
    "       \n",
    "    X = int(\"\".join(map(str, list))) \n",
    "      \n",
    "    return X\n"
   ]
  },
  {
   "cell_type": "code",
   "execution_count": 4,
   "metadata": {},
   "outputs": [
    {
     "name": "stdout",
     "output_type": "stream",
     "text": [
      "Enter the Digit in Decimal Form 10\n",
      "1 0 1 0 "
     ]
    }
   ],
   "source": [
    "n=int(input('Enter the Digit in Decimal Form '))\n",
    "DtoB(n)\n",
    "\n",
    "# Rx for receiver and Tx for transmitter (Ex:4 bit signal)\n",
    "# we send a bit stream and also an extra bit to tell us total 1's\n",
    "# Types Even and Odd\n",
    "# Eg:Original signal:0100 to get even parity we add parity bit as 1 to get 2's 1 "
   ]
  },
  {
   "cell_type": "code",
   "execution_count": 5,
   "metadata": {},
   "outputs": [
    {
     "name": "stdout",
     "output_type": "stream",
     "text": [
      "Transmitted Bits with  10  =  even(Pe)\n",
      "Enter binary form with Prity bit same value as BtoD(n) function 1010\n",
      "Actual transmitted data in Binary Form 101\n",
      "Actual transmitted data in Decimal Form 5\n"
     ]
    }
   ],
   "source": [
    "def getParity( n ): \n",
    "    parity = 0\n",
    "    while n: \n",
    "        parity = ~parity \n",
    "        n = n & (n - 1) \n",
    "    return parity \n",
    "print (\"Transmitted Bits with \", n,\" = \", \n",
    "     ( \"odd(Po)\" if getParity(n) else \"even(Pe)\")) \n",
    "\n",
    "v=int(input(\"Enter binary form with Prity bit same value as BtoD(n) function \"))\n",
    "res = list(map(int, str(v))) \n",
    "del res[-1]\n",
    "q=res\n",
    "trans=LtoI(q)\n",
    "print(\"Actual transmitted data in Binary Form\",trans)\n",
    "dec=int(str(trans),2)\n",
    "print(\"Actual transmitted data in Decimal Form\",dec)"
   ]
  },
  {
   "cell_type": "code",
   "execution_count": 6,
   "metadata": {},
   "outputs": [
    {
     "name": "stdout",
     "output_type": "stream",
     "text": [
      "Received bits(Decimal Form) 7\n",
      "1 1 1 \n",
      "\n",
      "Parity of Received Bits  7  =  odd\n",
      "Enter binary form with Prity bit 111\n",
      "Actual Received data in Binary Form 11\n",
      "Actual Received data in Decimal Form 3\n"
     ]
    }
   ],
   "source": [
    "x=int(input(\"Received bits(Decimal Form) \"))\n",
    "DtoB(x)\n",
    "print('\\n')\n",
    "def getParity( x ): \n",
    "    parity = 0\n",
    "    while x: \n",
    "        parity = ~parity \n",
    "        x = x & (x - 1) \n",
    "    return parity \n",
    "print (\"Parity of Received Bits \", x,\" = \", \n",
    "     ( \"odd\" if getParity(x) else \"even\"))\n",
    "vt=input(\"Enter binary form with Prity bit \")\n",
    "res1 = list(map(int, str(vt))) \n",
    "del res1[-1]\n",
    "qr=res1\n",
    "receiv=LtoI(qr)\n",
    "print(\"Actual Received data in Binary Form\",receiv)\n",
    "deci=int(str(receiv),2)\n",
    "print(\"Actual Received data in Decimal Form\",deci)"
   ]
  },
  {
   "cell_type": "code",
   "execution_count": 7,
   "metadata": {},
   "outputs": [],
   "source": [
    "def Tx_Rx(a, b):\n",
    "    if sorted(set(str(x))) == sorted(set(str(n))):\n",
    "        print(\"{0} and {1} Transmitted and Received Same Bits  \".format(a, b))\n",
    "    else:\n",
    "        print(\"{0} and {1} Transmitted and Received Different Bits\".format(a, b))\n"
   ]
  },
  {
   "cell_type": "code",
   "execution_count": 8,
   "metadata": {},
   "outputs": [
    {
     "name": "stdout",
     "output_type": "stream",
     "text": [
      "1010 and 111 Transmitted and Received Different Bits\n"
     ]
    }
   ],
   "source": [
    "# To check whether Transmitted and Received bits are same or not\n",
    "Tx_Rx(v,vt) \n",
    "#if transmitted and Received bits are different \n",
    "#then change parity bit from even to odd at receiver end (i.e 0 to 1 or vice versa)\n",
    "#eg Tbit=1010 Po=0(LSB) Rbit=1011 Pe=1(LSB) Hence due to noise Parity changes \n",
    "#change Rbit(Receiver Bit) to 1010 then it becomes odd parity same as even parity\n"
   ]
  },
  {
   "cell_type": "markdown",
   "metadata": {},
   "source": [
    "# Conversion of Even Parity to Odd Parity"
   ]
  },
  {
   "cell_type": "code",
   "execution_count": 9,
   "metadata": {},
   "outputs": [
    {
     "name": "stdout",
     "output_type": "stream",
     "text": [
      "Enter data in binary form 1010\n",
      "Data in decimal : 10\n"
     ]
    }
   ],
   "source": [
    "v=input(\"Enter data in binary form \")\n",
    "d=int(v,2)\n",
    "c=print(\"Data in decimal :\" ,d)\n",
    "# adding a praity bit two get even to odd bit or odd bit to even bitx\n",
    "Tx1 = list(map(int, str(v))) \n",
    "y=len(Tx1) - 1 - Tx1[::-1].index(0)"
   ]
  },
  {
   "cell_type": "code",
   "execution_count": 10,
   "metadata": {},
   "outputs": [
    {
     "data": {
      "text/plain": [
       "[1, 0, 1, 0, 1]"
      ]
     },
     "execution_count": 10,
     "metadata": {},
     "output_type": "execute_result"
    }
   ],
   "source": [
    "q=Tx1.insert(y+1, 1)\n",
    "Tx1"
   ]
  },
  {
   "cell_type": "code",
   "execution_count": 11,
   "metadata": {},
   "outputs": [
    {
     "data": {
      "text/plain": [
       "10101"
      ]
     },
     "execution_count": 11,
     "metadata": {},
     "output_type": "execute_result"
    }
   ],
   "source": [
    "def LtoI(list): \n",
    "       \n",
    "    X = int(\"\".join(map(str, list))) \n",
    "      \n",
    "    return X\n",
    "o=LtoI(Tx1)\n",
    "o"
   ]
  },
  {
   "cell_type": "code",
   "execution_count": 12,
   "metadata": {},
   "outputs": [
    {
     "name": "stdout",
     "output_type": "stream",
     "text": [
      "Even to Odd parity\n",
      "Parity of Transmitted Bits  10101  =  odd\n"
     ]
    }
   ],
   "source": [
    "print(\"Even to Odd parity\")\n",
    "# for i in Tx: \n",
    "#     print(i,end=\"\")\n",
    "# OR\n",
    "def LtoI(list): \n",
    "       \n",
    "    X = int(\"\".join(map(str, list))) \n",
    "      \n",
    "    return X\n",
    "o=LtoI(Tx1)\n",
    "o\n",
    "\n",
    "def getParity( o ): \n",
    "    parity = 0\n",
    "    while o: \n",
    "        parity = ~parity \n",
    "        o = o & (o - 1) \n",
    "    return parity \n",
    "print (\"Parity of Transmitted Bits \", o,\" = \", \n",
    "     ( \"odd\" if getParity(o) else \"even\")) "
   ]
  },
  {
   "cell_type": "markdown",
   "metadata": {},
   "source": [
    " # Conversion of Odd Parity to Even Parity"
   ]
  },
  {
   "cell_type": "code",
   "execution_count": 29,
   "metadata": {},
   "outputs": [
    {
     "name": "stdout",
     "output_type": "stream",
     "text": [
      "Enter data in binary form 1000\n",
      "Data in decimal : 8\n"
     ]
    }
   ],
   "source": [
    "v=input(\"Enter data in binary form \")\n",
    "f=int(v,2)\n",
    "h=print(\"Data in decimal :\" ,f)\n",
    "# adding a praity bit two get even to odd bit or odd bit to even bit\n",
    "Tx2 = list(map(int, str(v))) \n",
    "k=len(Tx2) - 1 - Tx2[::-1].index(0)"
   ]
  },
  {
   "cell_type": "code",
   "execution_count": 30,
   "metadata": {},
   "outputs": [
    {
     "data": {
      "text/plain": [
       "[1, 0, 0, 0, 1]"
      ]
     },
     "execution_count": 30,
     "metadata": {},
     "output_type": "execute_result"
    }
   ],
   "source": [
    "l=Tx2.insert(k+1, 1)\n",
    "Tx2"
   ]
  },
  {
   "cell_type": "code",
   "execution_count": 31,
   "metadata": {},
   "outputs": [
    {
     "name": "stdout",
     "output_type": "stream",
     "text": [
      "Odd to Even parity\n",
      "Parity of Transmitted Bits  10001  =  even\n"
     ]
    }
   ],
   "source": [
    "print(\"Odd to Even parity\")\n",
    "# for i in Tx: \n",
    "#     print(i,end=\"\")\n",
    "# OR\n",
    "def LtoI(list): \n",
    "       \n",
    "    X = int(\"\".join(map(str, list))) \n",
    "      \n",
    "    return X\n",
    "x1=LtoI(Tx2)\n",
    "x1\n",
    "\n",
    "def getParity( o ): \n",
    "    parity = 0\n",
    "    while o: \n",
    "        parity = ~parity \n",
    "        o = o & (o - 1) \n",
    "    return parity \n",
    "print (\"Parity of Transmitted Bits \", x1,\" = \", \n",
    "     ( \"odd\" if getParity(x1) else \"even\")) \n",
    "\n"
   ]
  }
 ],
 "metadata": {
  "kernelspec": {
   "display_name": "Python 3",
   "language": "python",
   "name": "python3"
  },
  "language_info": {
   "codemirror_mode": {
    "name": "ipython",
    "version": 3
   },
   "file_extension": ".py",
   "mimetype": "text/x-python",
   "name": "python",
   "nbconvert_exporter": "python",
   "pygments_lexer": "ipython3",
   "version": "3.7.1"
  }
 },
 "nbformat": 4,
 "nbformat_minor": 2
}
