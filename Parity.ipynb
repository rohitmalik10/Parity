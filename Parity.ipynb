{
 "cells": [
  {
   "cell_type": "code",
   "execution_count": 8,
   "metadata": {},
   "outputs": [
    {
     "name": "stdout",
     "output_type": "stream",
     "text": [
      "Parity of no  6  =  even\n"
     ]
    }
   ],
   "source": [
    "def getParity( n ): \n",
    "    parity = 0\n",
    "    while n: \n",
    "        parity = ~parity \n",
    "        n = n & (n - 1) \n",
    "    return parity \n",
    "  \n",
    "\n",
    "n = 6\n",
    "print (\"Parity of no \", n,\" = \", \n",
    "     ( \"odd\" if getParity(n) else \"even\")) "
   ]
  },
  {
   "cell_type": "code",
   "execution_count": null,
   "metadata": {},
   "outputs": [],
   "source": []
  }
 ],
 "metadata": {
  "kernelspec": {
   "display_name": "Python 3",
   "language": "python",
   "name": "python3"
  },
  "language_info": {
   "codemirror_mode": {
    "name": "ipython",
    "version": 3
   },
   "file_extension": ".py",
   "mimetype": "text/x-python",
   "name": "python",
   "nbconvert_exporter": "python",
   "pygments_lexer": "ipython3",
   "version": "3.7.1"
  }
 },
 "nbformat": 4,
 "nbformat_minor": 2
}
