{
 "cells": [
  {
   "cell_type": "code",
   "execution_count": 14,
   "metadata": {},
   "outputs": [],
   "source": [
    "# It is a concept to detec errors\n",
    "# A single bit error is detected by it\n",
    "\n",
    "def BtoD(n):\n",
    "    if(n>1):\n",
    "        BtoD(n//2)\n",
    "    print(n%2,end=\" \")\n",
    "    "
   ]
  },
  {
   "cell_type": "code",
   "execution_count": 15,
   "metadata": {},
   "outputs": [
    {
     "name": "stdout",
     "output_type": "stream",
     "text": [
      "Enter the Digit in Decimal Form 21\n",
      "1 0 1 0 1 "
     ]
    }
   ],
   "source": [
    "n=int(input('Enter the Digit in Decimal Form '))\n",
    "BtoD(n)\n",
    "\n",
    "# Rx for receiver and Tx for transmitter (4 bit signal)\n",
    "# we send a bit stream and also an extra bit to tell us total 1's\n",
    "# Types Even and Odd\n",
    "# Eg:Original signal:0100 to get even parity we add parity bit as 1 to get 2's 1 "
   ]
  },
  {
   "cell_type": "code",
   "execution_count": 16,
   "metadata": {},
   "outputs": [
    {
     "name": "stdout",
     "output_type": "stream",
     "text": [
      "The Transmitted bits are 21\n",
      "Parity of Transmitted Bits  21  =  odd\n"
     ]
    }
   ],
   "source": [
    "print(\"The Transmitted bits are\",n)\n",
    "def getParity( n ): \n",
    "    parity = 0\n",
    "    while n: \n",
    "        parity = ~parity \n",
    "        n = n & (n - 1) \n",
    "    return parity \n",
    "print (\"Parity of Transmitted Bits \", n,\" = \", \n",
    "     ( \"odd\" if getParity(n) else \"even\")) "
   ]
  },
  {
   "cell_type": "code",
   "execution_count": 17,
   "metadata": {},
   "outputs": [
    {
     "name": "stdout",
     "output_type": "stream",
     "text": [
      "Enter the Received bits(Decimal Form) 5\n",
      "1 0 1 \n",
      "\n",
      "Parity of Received Bits  5  =  even\n"
     ]
    }
   ],
   "source": [
    "x=int(input(\"Enter the Received bits(Decimal Form) \"))\n",
    "BtoD(x)\n",
    "print('\\n')\n",
    "def getParity( x): \n",
    "    parity = 0\n",
    "    while x: \n",
    "        parity = ~parity \n",
    "        x = x & (x - 1) \n",
    "    return parity\n",
    "print (\"Parity of Received Bits \", x,\" = \", \n",
    "     ( \"odd\" if getParity(x) else \"even\")) "
   ]
  },
  {
   "cell_type": "code",
   "execution_count": 18,
   "metadata": {},
   "outputs": [],
   "source": [
    "def Tx_Rx(a, b):\n",
    "    if sorted(set(str(x))) == sorted(set(str(n))):\n",
    "        print(\"{0} and {1} Transmitted and Received Same Bits  \".format(a, b))\n",
    "    else:\n",
    "        print(\"{0} and {1} Transmitted and Received Different Bits\".format(a, b))\n"
   ]
  },
  {
   "cell_type": "code",
   "execution_count": 19,
   "metadata": {},
   "outputs": [
    {
     "name": "stdout",
     "output_type": "stream",
     "text": [
      "21 and 5 Transmitted and Received Different Bits\n"
     ]
    }
   ],
   "source": [
    "# To check whether Transmitted and Received bits are same or not\n",
    "Tx_Rx(n,x) \n"
   ]
  },
  {
   "cell_type": "markdown",
   "metadata": {},
   "source": [
    "# Conversion of Even Parity to Odd Parity"
   ]
  },
  {
   "cell_type": "code",
   "execution_count": 44,
   "metadata": {},
   "outputs": [
    {
     "name": "stdout",
     "output_type": "stream",
     "text": [
      "Enter data in binary form 10111\n",
      "Data in decimal : 23\n"
     ]
    }
   ],
   "source": [
    "v=input(\"Enter data in binary form \")\n",
    "d=int(v,2)\n",
    "c=print(\"Data in decimal :\" ,d)\n",
    "# adding a praity bit two get even to odd bit or odd bit to even bitx\n",
    "Tx1 = list(map(int, str(v))) \n",
    "y=len(Tx1) - 1 - Tx1[::-1].index(0)"
   ]
  },
  {
   "cell_type": "code",
   "execution_count": 45,
   "metadata": {},
   "outputs": [
    {
     "data": {
      "text/plain": [
       "[1, 0, 1, 1, 1, 1]"
      ]
     },
     "execution_count": 45,
     "metadata": {},
     "output_type": "execute_result"
    }
   ],
   "source": [
    "q=Tx1.insert(y+1, 1)\n",
    "Tx1\n"
   ]
  },
  {
   "cell_type": "code",
   "execution_count": 46,
   "metadata": {},
   "outputs": [
    {
     "name": "stdout",
     "output_type": "stream",
     "text": [
      "Even to Odd parity\n",
      "Parity of Received Bits  101111  =  odd\n"
     ]
    }
   ],
   "source": [
    "\n",
    "print(\"Even to Odd parity\")\n",
    "# for i in Tx: \n",
    "#     print(i,end=\"\")\n",
    "# OR\n",
    "def LtoI(list): \n",
    "       \n",
    "    X = int(\"\".join(map(str, list))) \n",
    "      \n",
    "    return X\n",
    "o=LtoI(Tx1)\n",
    "o\n",
    "\n",
    "def getParity( o): \n",
    "    parity = 0\n",
    "    while o: \n",
    "        parity = ~parity \n",
    "        o = o & (o - 1) \n",
    "    return parity\n",
    "print (\"Parity of Received Bits \", o,\" = \", \n",
    "     ( \"odd\" if getParity(o) else \"even\")) \n",
    "\n"
   ]
  },
  {
   "cell_type": "markdown",
   "metadata": {},
   "source": [
    " # Conversion of Even Parity to Odd Parity"
   ]
  },
  {
   "cell_type": "code",
   "execution_count": 41,
   "metadata": {},
   "outputs": [
    {
     "name": "stdout",
     "output_type": "stream",
     "text": [
      "Enter data in binary form 1111\n",
      "Data in decimal : 15\n"
     ]
    }
   ],
   "source": [
    "v=input(\"Enter data in binary form \")\n",
    "f=int(v,2)\n",
    "h=print(\"Data in decimal :\" ,f)\n",
    "# adding a praity bit two get even to odd bit or odd bit to even bit\n",
    "Tx2 = list(map(int, str(v))) \n",
    "k=len(Tx2) - 1 - Tx2[::-1].index(1)"
   ]
  },
  {
   "cell_type": "code",
   "execution_count": 42,
   "metadata": {},
   "outputs": [
    {
     "data": {
      "text/plain": [
       "[1, 1, 1, 1, 1]"
      ]
     },
     "execution_count": 42,
     "metadata": {},
     "output_type": "execute_result"
    }
   ],
   "source": [
    "l=Tx2.insert(k+1, 1)\n",
    "Tx2"
   ]
  },
  {
   "cell_type": "code",
   "execution_count": 43,
   "metadata": {},
   "outputs": [
    {
     "name": "stdout",
     "output_type": "stream",
     "text": [
      "Odd to Even parity\n",
      "Parity of Received Bits  11111  =  odd\n"
     ]
    }
   ],
   "source": [
    "print(\"Odd to Even parity\")\n",
    "# for i in Tx: \n",
    "#     print(i,end=\"\")\n",
    "# OR\n",
    "def LtoI(list): \n",
    "       \n",
    "    X = int(\"\".join(map(str, list))) \n",
    "      \n",
    "    return X\n",
    "m=LtoI(Tx2)\n",
    "\n",
    "\n",
    "def getParity( m): \n",
    "    parity = 0\n",
    "    while m: \n",
    "        parity = ~parity \n",
    "        m = m & (m - 1) \n",
    "    return parity\n",
    "print (\"Parity of Received Bits \", m,\" = \", \n",
    "     ( \"odd\" if getParity(m) else \"even\")) "
   ]
  },
  {
   "cell_type": "code",
   "execution_count": null,
   "metadata": {},
   "outputs": [],
   "source": []
  },
  {
   "cell_type": "code",
   "execution_count": null,
   "metadata": {},
   "outputs": [],
   "source": []
  }
 ],
 "metadata": {
  "kernelspec": {
   "display_name": "Python 3",
   "language": "python",
   "name": "python3"
  },
  "language_info": {
   "codemirror_mode": {
    "name": "ipython",
    "version": 3
   },
   "file_extension": ".py",
   "mimetype": "text/x-python",
   "name": "python",
   "nbconvert_exporter": "python",
   "pygments_lexer": "ipython3",
   "version": "3.7.1"
  }
 },
 "nbformat": 4,
 "nbformat_minor": 2
}
